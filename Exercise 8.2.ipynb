{
 "cells": [
  {
   "cell_type": "code",
   "execution_count": 1,
   "id": "876a13ce",
   "metadata": {},
   "outputs": [
    {
     "data": {
      "text/html": [
       "<div>\n",
       "<style scoped>\n",
       "    .dataframe tbody tr th:only-of-type {\n",
       "        vertical-align: middle;\n",
       "    }\n",
       "\n",
       "    .dataframe tbody tr th {\n",
       "        vertical-align: top;\n",
       "    }\n",
       "\n",
       "    .dataframe thead th {\n",
       "        text-align: right;\n",
       "    }\n",
       "</style>\n",
       "<table border=\"1\" class=\"dataframe\">\n",
       "  <thead>\n",
       "    <tr style=\"text-align: right;\">\n",
       "      <th></th>\n",
       "      <th>YEAR</th>\n",
       "      <th>JAN</th>\n",
       "      <th>FEB</th>\n",
       "      <th>MAR</th>\n",
       "      <th>APR</th>\n",
       "      <th>MAY</th>\n",
       "      <th>JUN</th>\n",
       "      <th>JUL</th>\n",
       "      <th>AUG</th>\n",
       "      <th>SEP</th>\n",
       "      <th>OCT</th>\n",
       "      <th>NOV</th>\n",
       "      <th>DEC</th>\n",
       "    </tr>\n",
       "  </thead>\n",
       "  <tbody>\n",
       "    <tr>\n",
       "      <th>0</th>\n",
       "      <td>1992</td>\n",
       "      <td>146925</td>\n",
       "      <td>147223</td>\n",
       "      <td>146805</td>\n",
       "      <td>148032</td>\n",
       "      <td>149010</td>\n",
       "      <td>149800</td>\n",
       "      <td>150761.0</td>\n",
       "      <td>151067.0</td>\n",
       "      <td>152588.0</td>\n",
       "      <td>153521.0</td>\n",
       "      <td>153583.0</td>\n",
       "      <td>155614.0</td>\n",
       "    </tr>\n",
       "    <tr>\n",
       "      <th>1</th>\n",
       "      <td>1993</td>\n",
       "      <td>157555</td>\n",
       "      <td>156266</td>\n",
       "      <td>154752</td>\n",
       "      <td>158979</td>\n",
       "      <td>160605</td>\n",
       "      <td>160127</td>\n",
       "      <td>162816.0</td>\n",
       "      <td>162506.0</td>\n",
       "      <td>163258.0</td>\n",
       "      <td>164685.0</td>\n",
       "      <td>166594.0</td>\n",
       "      <td>168161.0</td>\n",
       "    </tr>\n",
       "    <tr>\n",
       "      <th>2</th>\n",
       "      <td>1994</td>\n",
       "      <td>167518</td>\n",
       "      <td>169649</td>\n",
       "      <td>172766</td>\n",
       "      <td>173106</td>\n",
       "      <td>172329</td>\n",
       "      <td>174241</td>\n",
       "      <td>174781.0</td>\n",
       "      <td>177295.0</td>\n",
       "      <td>178787.0</td>\n",
       "      <td>180561.0</td>\n",
       "      <td>180703.0</td>\n",
       "      <td>181524.0</td>\n",
       "    </tr>\n",
       "    <tr>\n",
       "      <th>3</th>\n",
       "      <td>1995</td>\n",
       "      <td>182413</td>\n",
       "      <td>179488</td>\n",
       "      <td>181013</td>\n",
       "      <td>181686</td>\n",
       "      <td>183536</td>\n",
       "      <td>186081</td>\n",
       "      <td>185431.0</td>\n",
       "      <td>186806.0</td>\n",
       "      <td>187366.0</td>\n",
       "      <td>186565.0</td>\n",
       "      <td>189055.0</td>\n",
       "      <td>190774.0</td>\n",
       "    </tr>\n",
       "    <tr>\n",
       "      <th>4</th>\n",
       "      <td>1996</td>\n",
       "      <td>189135</td>\n",
       "      <td>192266</td>\n",
       "      <td>194029</td>\n",
       "      <td>194744</td>\n",
       "      <td>196205</td>\n",
       "      <td>196136</td>\n",
       "      <td>196187.0</td>\n",
       "      <td>196218.0</td>\n",
       "      <td>198859.0</td>\n",
       "      <td>200509.0</td>\n",
       "      <td>200174.0</td>\n",
       "      <td>201284.0</td>\n",
       "    </tr>\n",
       "  </tbody>\n",
       "</table>\n",
       "</div>"
      ],
      "text/plain": [
       "   YEAR     JAN     FEB     MAR     APR     MAY     JUN       JUL       AUG  \\\n",
       "0  1992  146925  147223  146805  148032  149010  149800  150761.0  151067.0   \n",
       "1  1993  157555  156266  154752  158979  160605  160127  162816.0  162506.0   \n",
       "2  1994  167518  169649  172766  173106  172329  174241  174781.0  177295.0   \n",
       "3  1995  182413  179488  181013  181686  183536  186081  185431.0  186806.0   \n",
       "4  1996  189135  192266  194029  194744  196205  196136  196187.0  196218.0   \n",
       "\n",
       "        SEP       OCT       NOV       DEC  \n",
       "0  152588.0  153521.0  153583.0  155614.0  \n",
       "1  163258.0  164685.0  166594.0  168161.0  \n",
       "2  178787.0  180561.0  180703.0  181524.0  \n",
       "3  187366.0  186565.0  189055.0  190774.0  \n",
       "4  198859.0  200509.0  200174.0  201284.0  "
      ]
     },
     "execution_count": 1,
     "metadata": {},
     "output_type": "execute_result"
    }
   ],
   "source": [
    "import pandas as pd\n",
    "\n",
    "retail_sales_df=pd.read_csv('us_retail_sales.csv')\n",
    "retail_sales_df.head()"
   ]
  },
  {
   "cell_type": "code",
   "execution_count": 2,
   "id": "9ea7cb9e",
   "metadata": {},
   "outputs": [
    {
     "data": {
      "text/plain": [
       "(30, 13)"
      ]
     },
     "execution_count": 2,
     "metadata": {},
     "output_type": "execute_result"
    }
   ],
   "source": [
    "retail_sales_df.shape"
   ]
  },
  {
   "cell_type": "code",
   "execution_count": 3,
   "id": "691c202f",
   "metadata": {},
   "outputs": [
    {
     "data": {
      "text/html": [
       "<div>\n",
       "<style scoped>\n",
       "    .dataframe tbody tr th:only-of-type {\n",
       "        vertical-align: middle;\n",
       "    }\n",
       "\n",
       "    .dataframe tbody tr th {\n",
       "        vertical-align: top;\n",
       "    }\n",
       "\n",
       "    .dataframe thead th {\n",
       "        text-align: right;\n",
       "    }\n",
       "</style>\n",
       "<table border=\"1\" class=\"dataframe\">\n",
       "  <thead>\n",
       "    <tr style=\"text-align: right;\">\n",
       "      <th></th>\n",
       "      <th>YEAR</th>\n",
       "      <th>variable</th>\n",
       "      <th>value</th>\n",
       "    </tr>\n",
       "  </thead>\n",
       "  <tbody>\n",
       "    <tr>\n",
       "      <th>0</th>\n",
       "      <td>1992</td>\n",
       "      <td>JAN</td>\n",
       "      <td>146925.0</td>\n",
       "    </tr>\n",
       "    <tr>\n",
       "      <th>1</th>\n",
       "      <td>1993</td>\n",
       "      <td>JAN</td>\n",
       "      <td>157555.0</td>\n",
       "    </tr>\n",
       "    <tr>\n",
       "      <th>2</th>\n",
       "      <td>1994</td>\n",
       "      <td>JAN</td>\n",
       "      <td>167518.0</td>\n",
       "    </tr>\n",
       "    <tr>\n",
       "      <th>3</th>\n",
       "      <td>1995</td>\n",
       "      <td>JAN</td>\n",
       "      <td>182413.0</td>\n",
       "    </tr>\n",
       "    <tr>\n",
       "      <th>4</th>\n",
       "      <td>1996</td>\n",
       "      <td>JAN</td>\n",
       "      <td>189135.0</td>\n",
       "    </tr>\n",
       "  </tbody>\n",
       "</table>\n",
       "</div>"
      ],
      "text/plain": [
       "   YEAR variable     value\n",
       "0  1992      JAN  146925.0\n",
       "1  1993      JAN  157555.0\n",
       "2  1994      JAN  167518.0\n",
       "3  1995      JAN  182413.0\n",
       "4  1996      JAN  189135.0"
      ]
     },
     "execution_count": 3,
     "metadata": {},
     "output_type": "execute_result"
    }
   ],
   "source": [
    "# Transpose Data\n",
    "Transpose_retail_sales_df=pd.melt(retail_sales_df, id_vars =['YEAR'])\n",
    "Transpose_retail_sales_df.head()"
   ]
  },
  {
   "cell_type": "code",
   "execution_count": 4,
   "id": "28ffda9e",
   "metadata": {},
   "outputs": [
    {
     "data": {
      "text/plain": [
       "YEAR        0\n",
       "variable    0\n",
       "value       6\n",
       "dtype: int64"
      ]
     },
     "execution_count": 4,
     "metadata": {},
     "output_type": "execute_result"
    }
   ],
   "source": [
    "# Check Nulls\n",
    "Transpose_retail_sales_df.isnull().sum()"
   ]
  },
  {
   "cell_type": "code",
   "execution_count": 5,
   "id": "2c42988a",
   "metadata": {},
   "outputs": [
    {
     "data": {
      "text/html": [
       "<div>\n",
       "<style scoped>\n",
       "    .dataframe tbody tr th:only-of-type {\n",
       "        vertical-align: middle;\n",
       "    }\n",
       "\n",
       "    .dataframe tbody tr th {\n",
       "        vertical-align: top;\n",
       "    }\n",
       "\n",
       "    .dataframe thead th {\n",
       "        text-align: right;\n",
       "    }\n",
       "</style>\n",
       "<table border=\"1\" class=\"dataframe\">\n",
       "  <thead>\n",
       "    <tr style=\"text-align: right;\">\n",
       "      <th></th>\n",
       "      <th>YEAR</th>\n",
       "      <th>variable</th>\n",
       "      <th>value</th>\n",
       "    </tr>\n",
       "  </thead>\n",
       "  <tbody>\n",
       "    <tr>\n",
       "      <th>0</th>\n",
       "      <td>1992</td>\n",
       "      <td>JAN</td>\n",
       "      <td>146925.0</td>\n",
       "    </tr>\n",
       "    <tr>\n",
       "      <th>1</th>\n",
       "      <td>1993</td>\n",
       "      <td>JAN</td>\n",
       "      <td>157555.0</td>\n",
       "    </tr>\n",
       "    <tr>\n",
       "      <th>2</th>\n",
       "      <td>1994</td>\n",
       "      <td>JAN</td>\n",
       "      <td>167518.0</td>\n",
       "    </tr>\n",
       "    <tr>\n",
       "      <th>3</th>\n",
       "      <td>1995</td>\n",
       "      <td>JAN</td>\n",
       "      <td>182413.0</td>\n",
       "    </tr>\n",
       "    <tr>\n",
       "      <th>4</th>\n",
       "      <td>1996</td>\n",
       "      <td>JAN</td>\n",
       "      <td>189135.0</td>\n",
       "    </tr>\n",
       "  </tbody>\n",
       "</table>\n",
       "</div>"
      ],
      "text/plain": [
       "   YEAR variable     value\n",
       "0  1992      JAN  146925.0\n",
       "1  1993      JAN  157555.0\n",
       "2  1994      JAN  167518.0\n",
       "3  1995      JAN  182413.0\n",
       "4  1996      JAN  189135.0"
      ]
     },
     "execution_count": 5,
     "metadata": {},
     "output_type": "execute_result"
    }
   ],
   "source": [
    "# Drop Nulls\n",
    "Transpose_retail_sales_df.dropna(inplace=True)\n",
    "Transpose_retail_sales_df.isnull().sum()\n",
    "Transpose_retail_sales_df.head()"
   ]
  },
  {
   "cell_type": "code",
   "execution_count": 6,
   "id": "41b52ddf",
   "metadata": {},
   "outputs": [],
   "source": [
    "import datetime as dt\n",
    "\n",
    "#convert date and hour to str, concatenate them and then convert them to datetime format.\n",
    "Transpose_retail_sales_df['new_date'] = Transpose_retail_sales_df[['YEAR','variable']].astype(str).apply(lambda x: dt.datetime.strptime(x.YEAR + x.variable+'1', '%Y%b%d'), axis=1)"
   ]
  },
  {
   "cell_type": "code",
   "execution_count": 7,
   "id": "752ff49a",
   "metadata": {},
   "outputs": [
    {
     "name": "stderr",
     "output_type": "stream",
     "text": [
      "<ipython-input-7-e08b33fa83ee>:4: SettingWithCopyWarning: \n",
      "A value is trying to be set on a copy of a slice from a DataFrame\n",
      "\n",
      "See the caveats in the documentation: https://pandas.pydata.org/pandas-docs/stable/user_guide/indexing.html#returning-a-view-versus-a-copy\n",
      "  final_retail_sales_df.sort_values(by=['new_date'], inplace=True)\n"
     ]
    },
    {
     "data": {
      "text/html": [
       "<div>\n",
       "<style scoped>\n",
       "    .dataframe tbody tr th:only-of-type {\n",
       "        vertical-align: middle;\n",
       "    }\n",
       "\n",
       "    .dataframe tbody tr th {\n",
       "        vertical-align: top;\n",
       "    }\n",
       "\n",
       "    .dataframe thead th {\n",
       "        text-align: right;\n",
       "    }\n",
       "</style>\n",
       "<table border=\"1\" class=\"dataframe\">\n",
       "  <thead>\n",
       "    <tr style=\"text-align: right;\">\n",
       "      <th></th>\n",
       "      <th>value</th>\n",
       "    </tr>\n",
       "    <tr>\n",
       "      <th>new_date</th>\n",
       "      <th></th>\n",
       "    </tr>\n",
       "  </thead>\n",
       "  <tbody>\n",
       "    <tr>\n",
       "      <th>1992-01-01</th>\n",
       "      <td>146925.0</td>\n",
       "    </tr>\n",
       "    <tr>\n",
       "      <th>1992-02-01</th>\n",
       "      <td>147223.0</td>\n",
       "    </tr>\n",
       "    <tr>\n",
       "      <th>1992-03-01</th>\n",
       "      <td>146805.0</td>\n",
       "    </tr>\n",
       "    <tr>\n",
       "      <th>1992-04-01</th>\n",
       "      <td>148032.0</td>\n",
       "    </tr>\n",
       "    <tr>\n",
       "      <th>1992-05-01</th>\n",
       "      <td>149010.0</td>\n",
       "    </tr>\n",
       "    <tr>\n",
       "      <th>...</th>\n",
       "      <td>...</td>\n",
       "    </tr>\n",
       "    <tr>\n",
       "      <th>1999-12-01</th>\n",
       "      <td>245485.0</td>\n",
       "    </tr>\n",
       "    <tr>\n",
       "      <th>2000-01-01</th>\n",
       "      <td>243436.0</td>\n",
       "    </tr>\n",
       "    <tr>\n",
       "      <th>2000-02-01</th>\n",
       "      <td>247133.0</td>\n",
       "    </tr>\n",
       "    <tr>\n",
       "      <th>2000-03-01</th>\n",
       "      <td>249825.0</td>\n",
       "    </tr>\n",
       "    <tr>\n",
       "      <th>2000-04-01</th>\n",
       "      <td>245831.0</td>\n",
       "    </tr>\n",
       "  </tbody>\n",
       "</table>\n",
       "<p>100 rows × 1 columns</p>\n",
       "</div>"
      ],
      "text/plain": [
       "               value\n",
       "new_date            \n",
       "1992-01-01  146925.0\n",
       "1992-02-01  147223.0\n",
       "1992-03-01  146805.0\n",
       "1992-04-01  148032.0\n",
       "1992-05-01  149010.0\n",
       "...              ...\n",
       "1999-12-01  245485.0\n",
       "2000-01-01  243436.0\n",
       "2000-02-01  247133.0\n",
       "2000-03-01  249825.0\n",
       "2000-04-01  245831.0\n",
       "\n",
       "[100 rows x 1 columns]"
      ]
     },
     "execution_count": 7,
     "metadata": {},
     "output_type": "execute_result"
    }
   ],
   "source": [
    "# Order the values and set the new date field as the index\n",
    "\n",
    "final_retail_sales_df=Transpose_retail_sales_df[['new_date','value']]\n",
    "final_retail_sales_df.sort_values(by=['new_date'], inplace=True)\n",
    "final_retail_sales_df.reset_index(drop=True, inplace=True)\n",
    "final_retail_sales_df.set_index('new_date',inplace=True)\n",
    "final_retail_sales_df.head(100)"
   ]
  },
  {
   "cell_type": "code",
   "execution_count": 8,
   "id": "2975ca5f",
   "metadata": {},
   "outputs": [
    {
     "data": {
      "image/png": "[encoded data removed]",
      "text/plain": [
       "<Figure size 432x288 with 1 Axes>"
      ]
     },
     "metadata": {
      "needs_background": "light"
     },
     "output_type": "display_data"
    }
   ],
   "source": [
    "# Line plot\n",
    "\n",
    "import matplotlib.pyplot as plt\n",
    "\n",
    "plt.plot(final_retail_sales_df)\n",
    "plt.xlabel(\"Year\")\n",
    "plt.ylabel(\"Sales\")\n",
    "plt.title(\"Fig. 1 US Retail Sales\")\n",
    "plt.show()"
   ]
  },
  {
   "cell_type": "markdown",
   "id": "3c6ed5e6",
   "metadata": {},
   "source": [
    "From the line plot we can infer that sales grew strongly over time although there were noticeable dips during 2008 and 2020 when there was an economic slowdown"
   ]
  },
  {
   "cell_type": "code",
   "execution_count": 9,
   "id": "b97e12f2",
   "metadata": {
    "scrolled": true
   },
   "outputs": [
    {
     "data": {
      "image/png": "[encoded data removed]",
      "text/plain": [
       "<Figure size 432x288 with 1 Axes>"
      ]
     },
     "metadata": {
      "needs_background": "light"
     },
     "output_type": "display_data"
    }
   ],
   "source": [
    "#Check Auto Correlation\n",
    "pd.plotting.lag_plot(final_retail_sales_df,lag=1)\n",
    "plt.title(\"Fig. 2 US Retail Sales Auto Correlation Plot\")\n",
    "plt.show()"
   ]
  },
  {
   "cell_type": "markdown",
   "id": "c22ca5db",
   "metadata": {},
   "source": [
    "We can see a large ball of observations along a diagonal line of the plot. It clearly shows strong correlation."
   ]
  },
  {
   "cell_type": "code",
   "execution_count": 10,
   "id": "f0d18895",
   "metadata": {},
   "outputs": [
    {
     "name": "stdout",
     "output_type": "stream",
     "text": [
      "          t-1       t+1\n",
      "t-1  1.000000  0.997354\n",
      "t+1  0.997354  1.000000\n"
     ]
    }
   ],
   "source": [
    "from pandas import read_csv\n",
    "from pandas import DataFrame\n",
    "from pandas import concat\n",
    "\n",
    "values = DataFrame(final_retail_sales_df)\n",
    "dataframe = concat([values.shift(1), values], axis=1)\n",
    "dataframe.columns = ['t-1', 't+1']\n",
    "result = dataframe.corr()\n",
    "print(result)"
   ]
  },
  {
   "cell_type": "code",
   "execution_count": 11,
   "id": "fd15b48e",
   "metadata": {},
   "outputs": [],
   "source": [
    "# create and evaluate a static autoregressive model\n",
    "\n",
    "from statsmodels.tsa.ar_model import AutoReg\n",
    "from sklearn.metrics import mean_squared_error\n",
    "from math import sqrt\n",
    "\n",
    "# split dataset\n",
    "X = final_retail_sales_df.values\n",
    "train, test = X[1:len(X)-12], X[len(X)-12:]"
   ]
  },
  {
   "cell_type": "code",
   "execution_count": 13,
   "id": "f4562e48",
   "metadata": {},
   "outputs": [
    {
     "name": "stderr",
     "output_type": "stream",
     "text": [
      "C:\\Users\\kiran\\anaconda3\\lib\\site-packages\\statsmodels\\tsa\\ar_model.py:248: FutureWarning: The parameter names will change after 0.12 is released. Set old_names to False to use the new names now. Set old_names to True to use the old names. \n",
      "  warnings.warn(\n"
     ]
    },
    {
     "name": "stdout",
     "output_type": "stream",
     "text": [
      "Coefficients: [ 2.20424835e+03  8.78872100e-01 -3.60867752e-01  3.44408784e-01\n",
      "  2.72624784e-01 -2.21552823e-01  1.65049627e-01  8.35543692e-03\n",
      " -1.94172346e-01  1.68899969e-01 -1.38659003e-02  3.17476649e-02\n",
      " -2.05193864e-01  3.51037306e-02  1.91318789e-01 -6.44582931e-02\n",
      "  2.64535613e-01 -5.15897445e-01  3.40840732e-02  3.19259770e-01\n",
      " -1.57077398e-01  4.76717928e-03  1.51880104e-01 -2.81862225e-01\n",
      " -1.11082273e-02  1.60691634e-01 -1.70967353e-01  2.23886941e-01\n",
      " -1.37176649e-01  7.66363949e-02]\n",
      "predicted=445515.494493, expected=481627.000000\n",
      "predicted=422256.678222, expected=483716.000000\n",
      "predicted=446066.473177, expected=493327.000000\n",
      "predicted=451949.982676, expected=493991.000000\n",
      "predicted=442227.695371, expected=488652.000000\n",
      "predicted=450286.767245, expected=484782.000000\n",
      "predicted=446613.649392, expected=520162.000000\n",
      "predicted=438267.782201, expected=504458.000000\n",
      "predicted=444921.157325, expected=559871.000000\n",
      "predicted=470506.850108, expected=562269.000000\n",
      "predicted=455556.374313, expected=548987.000000\n",
      "predicted=424719.228433, expected=550782.000000\n",
      "Test RMSE: 75538.510\n"
     ]
    },
    {
     "data": {
      "image/png": "[encoded data removed]",
      "text/plain": [
       "<Figure size 432x288 with 1 Axes>"
      ]
     },
     "metadata": {
      "needs_background": "light"
     },
     "output_type": "display_data"
    }
   ],
   "source": [
    "# train autoregression\n",
    "model = AutoReg(train, lags=29)\n",
    "model_fit = model.fit()\n",
    "print('Coefficients: %s' % model_fit.params)\n",
    "# make predictions\n",
    "predictions = model_fit.predict(start=len(train), end=len(train)+len(test)-1, dynamic=False)\n",
    "for i in range(len(predictions)):\n",
    "\tprint('predicted=%f, expected=%f' % (predictions[i], test[i]))\n",
    "rmse = sqrt(mean_squared_error(test, predictions))\n",
    "print('Test RMSE: %.3f' % rmse)\n",
    "# plot results\n",
    "plt.plot(test)\n",
    "plt.plot(predictions, color='red')\n",
    "plt.title(\"Fig. 3 Original Vs Predicted Value\")\n",
    "plt.xlabel(\"Iteration\")\n",
    "plt.ylabel(\"Value\")\n",
    "plt.show()"
   ]
  }
 ],
 "metadata": {
  "kernelspec": {
   "display_name": "Python 3",
   "language": "python",
   "name": "python3"
  },
  "language_info": {
   "codemirror_mode": {
    "name": "ipython",
    "version": 3
   },
   "file_extension": ".py",
   "mimetype": "text/x-python",
   "name": "python",
   "nbconvert_exporter": "python",
   "pygments_lexer": "ipython3",
   "version": "3.8.8"
  }
 },
 "nbformat": 4,
 "nbformat_minor": 5
}
